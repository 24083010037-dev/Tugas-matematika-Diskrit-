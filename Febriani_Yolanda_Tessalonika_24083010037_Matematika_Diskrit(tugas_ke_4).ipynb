{
  "nbformat": 4,
  "nbformat_minor": 0,
  "metadata": {
    "colab": {
      "provenance": []
    },
    "kernelspec": {
      "name": "python3",
      "display_name": "Python 3"
    },
    "language_info": {
      "name": "python"
    }
  },
  "cells": [
    {
      "cell_type": "markdown",
      "source": [
        "#####kode deret harmonik\n",
        "######`gunakan untuk menghitung jumlah parsial dari deret harmonik. Tujuan utama kode ini adalah mencari nilai yang termasuk deret yang divergen, artinya jumlahnya akan bertambah terus tanpa batas walaupun setiap suku baru yang ditambahkan semakin kecil mendekati nol. Tujuan utama kode ini adalah mencari nilai n terkecil sehingga jumlah parsial Hn pertama kali melebihi atau sama dengan nilai batas tertentu yang sudah ditentukan, dalam hal ini limit= 2. Setiap kali suku baru ditambahkan, program memeriksa apakah jumlah total sudah melampaui batas. Jika ya, perulangan dihentikan dengan perintah (break). Berdasarkan eksekusi, diketahui bahwa pada n=4, jumlah parsial deret harmonik adalah sekitar 2,0833 sehingga untuk pertama kalinya melebihi angka 2.`\n",
        "\n",
        "---\n",
        "\n"
      ],
      "metadata": {
        "id": "rvsyrLwKs4Ge"
      }
    },
    {
      "cell_type": "code",
      "execution_count": 3,
      "metadata": {
        "colab": {
          "base_uri": "https://localhost:8080/"
        },
        "id": "J8ruUO-Ysgdh",
        "outputId": "6141b579-07b0-4ba5-f9a5-5fa4a9cf180e"
      },
      "outputs": [
        {
          "output_type": "stream",
          "name": "stdout",
          "text": [
            "n pertama kali melewati 2 adalah n=4, jumlah = 2.083333333333333\n"
          ]
        }
      ],
      "source": [
        "limit = 2\n",
        "total = 0\n",
        "\n",
        "for n in range(1, 101):\n",
        "    total += 1/n\n",
        "    if total >= limit:\n",
        "        print(f\"n pertama kali melewati {limit} adalah n={n}, jumlah = {total}\")\n",
        "        break"
      ]
    }
  ]
}