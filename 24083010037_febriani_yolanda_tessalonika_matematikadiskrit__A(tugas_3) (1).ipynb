{
  "nbformat": 4,
  "nbformat_minor": 0,
  "metadata": {
    "colab": {
      "provenance": []
    },
    "kernelspec": {
      "name": "python3",
      "display_name": "Python 3"
    },
    "language_info": {
      "name": "python"
    }
  },
  "cells": [
    {
      "cell_type": "code",
      "source": [
        "n = int(input(\"Masukkan nilai n: \"))\n",
        "\n",
        "jumlah = sum(2*i - 1 for i in range(1, n+1))\n",
        "\n",
        "pangkat = n**2\n",
        "\n",
        "print(f\"Jumlah bilangan ganjil pertama sampai suku ke-{n} = {jumlah}\")\n",
        "print(f\"Nilai n^2 = {pangkat}\")\n",
        "\n",
        "if jumlah == pangkat:\n",
        "    print(\"Rumus terbukti benar!\")"
      ],
      "metadata": {
        "colab": {
          "base_uri": "https://localhost:8080/"
        },
        "id": "I0AYaPwe4wNs",
        "outputId": "a41edc14-d6b8-4e01-cf33-70a6ab456b0c"
      },
      "execution_count": 10,
      "outputs": [
        {
          "output_type": "stream",
          "name": "stdout",
          "text": [
            "Masukkan nilai n: 5\n",
            "Jumlah bilangan ganjil pertama sampai suku ke-5 = 25\n",
            "Nilai n^2 = 25\n",
            "Rumus terbukti benar!\n"
          ]
        }
      ]
    },
    {
      "cell_type": "code",
      "source": [
        "n = int(input(\"Masukkan nilai n: \"))\n",
        "\n",
        "jumlah = sum(i**2 for i in range(1, n+1))\n",
        "\n",
        "rumus = n * (n + 1) * (2*n + 1) // 6\n",
        "\n",
        "print(f\"Jumlah kuadrat dari 1^2 sampai {n}^2 = {jumlah}\")\n",
        "print(f\"Hasil rumus n(n+1)(2n+1)/6 = {rumus}\")\n",
        "\n",
        "if jumlah == rumus:\n",
        "    print(\"Rumus terbukti benar!\")"
      ],
      "metadata": {
        "colab": {
          "base_uri": "https://localhost:8080/"
        },
        "id": "rU4ItCaA5Bk-",
        "outputId": "e3b3acc5-5efe-4bfe-f04f-e0fcceeff050"
      },
      "execution_count": 11,
      "outputs": [
        {
          "output_type": "stream",
          "name": "stdout",
          "text": [
            "Masukkan nilai n: 8\n",
            "Jumlah kuadrat dari 1^2 sampai 8^2 = 204\n",
            "Hasil rumus n(n+1)(2n+1)/6 = 204\n",
            "Rumus terbukti benar!\n"
          ]
        }
      ]
    }
  ]
}